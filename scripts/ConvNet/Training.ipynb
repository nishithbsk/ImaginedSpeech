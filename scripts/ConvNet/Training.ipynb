{
 "metadata": {
  "name": "",
  "signature": "sha256:0096ba075f0b5b15a02e98c79dfac0961aa5b7d5379026359c7694e6eb088d60"
 },
 "nbformat": 3,
 "nbformat_minor": 0,
 "worksheets": [
  {
   "cells": [
    {
     "cell_type": "code",
     "collapsed": false,
     "input": [
      "import numpy as np\n",
      "\n",
      "from layers import *\n",
      "from fast_layers import *\n",
      "from layer_utils import *\n",
      "from util import *\n",
      "\n",
      "from classifiers.convnet import *\n",
      "from MultiLevelConvNet import MultiLevelConvNet"
     ],
     "language": "python",
     "metadata": {},
     "outputs": [],
     "prompt_number": 25
    },
    {
     "cell_type": "code",
     "collapsed": false,
     "input": [
      "component_dim = (1, 32, 16)\n",
      "numSamples = 100\n",
      "left, right = 1200, 1360\n",
      "rg = 0.000\n",
      "numFilters = (128, 256)\n",
      "batch_siz = 100\n",
      "epochs = 4\n",
      "drop = 1\n",
      "\n",
      "data_scale = 1e4\n",
      "weight_scale = 10\n",
      "lr = 0.005"
     ],
     "language": "python",
     "metadata": {},
     "outputs": [],
     "prompt_number": 26
    },
    {
     "cell_type": "code",
     "collapsed": false,
     "input": [
      "X_sigi = get_all_instances_of_symbol('SIG')\n",
      "X_nali = get_all_instances_of_symbol('NAL')"
     ],
     "language": "python",
     "metadata": {},
     "outputs": [],
     "prompt_number": 27
    },
    {
     "cell_type": "code",
     "collapsed": false,
     "input": [
      "X_sig = X_sigi[:numSamples, :, :component_dim[1], left:right]\n",
      "y_sig_0 = np.tile([0, 0, 1, 1, 2, 2, 3, 3, 4, 4], (X_sig.shape[0], 1))\n",
      "\n",
      "X_nal = X_nali[:numSamples, :, :component_dim[1], left:right]\n",
      "y_nal_0 = np.tile([5, 5, 6, 6, 7, 7, 8, 8, 9, 9], (X_nal.shape[0], 1))\n",
      "\n",
      "order = np.random.permutation(X_sig.shape[0] + X_nal.shape[0])\n",
      "\n",
      "X = np.concatenate((X_sig, X_nal), axis = 0)[order]\n",
      "y_0 = np.vstack((y_sig_0, y_nal_0))[order]"
     ],
     "language": "python",
     "metadata": {},
     "outputs": [],
     "prompt_number": 28
    },
    {
     "cell_type": "code",
     "collapsed": false,
     "input": [
      "X_train = X[:9*X.shape[0]/10] * data_scale\n",
      "X_val = X[9*X.shape[0]/10:] * data_scale\n",
      "y_0_train = y_0[:9*y_0.shape[0]/10]\n",
      "y_0_val = y_0[9*y_0.shape[0]/10:]"
     ],
     "language": "python",
     "metadata": {},
     "outputs": [],
     "prompt_number": 29
    },
    {
     "cell_type": "code",
     "collapsed": false,
     "input": [
      "fn1 = speech_convnet\n",
      "num_components_per_img1 = 1\n",
      "input_component_dim1 = (component_dim[0], component_dim[1], component_dim[2] * num_components_per_img1)\n",
      "model1 = init_speech_convnet(input_shape = input_component_dim1, num_classes = 10, filter_size = 3, num_filters = numFilters, weight_scale = weight_scale)\n",
      "output = fn1(X[:1, :input_component_dim1[0], :input_component_dim1[1], :input_component_dim1[2]], model1, extract_features = True)[0]\n",
      "output_component_dim1 = output.shape\n",
      "stride1 = input_component_dim1[2]\n",
      "\n",
      "net = MultiLevelConvNet(1)\n",
      "net.set_level_parameters(0, fn1, model1, input_component_dim1, num_components_per_img1, stride1)\n",
      "net.set_level_learning_parameters(0, reg = rg, learning_rate = lr, batch_size = batch_siz, num_epochs = epochs, learning_rate_decay = 0.999, update = 'rmsprop', verbose=True, dropout=drop)"
     ],
     "language": "python",
     "metadata": {},
     "outputs": [],
     "prompt_number": 30
    },
    {
     "cell_type": "code",
     "collapsed": false,
     "input": [
      "best_model, loss_history, train_acc_history, val_acc_history = net.train_level(0, X_train, X_val, y_0_train, y_0_val)"
     ],
     "language": "python",
     "metadata": {},
     "outputs": [
      {
       "output_type": "stream",
       "stream": "stdout",
       "text": [
        "Training level 0\n",
        "Training Sizes: (1800, 1, 32, 16) (1800,) (200, 1, 32, 16) (200,)\n",
        "starting iteration  0\n",
        "Predicted classifications:"
       ]
      },
      {
       "output_type": "stream",
       "stream": "stdout",
       "text": [
        " [1 0 2 1 4 5 0 2 2 2 0 0 4 1 1 0 2 6 0 0 1 0 0 1 1 1 1 4 2 1 1 0 1 0 2 0 0\n",
        " 0 0 0 1 0 0 0 2 6 5 4 2 5 5 0 2 0 0 1 2 2 0 2 1 0 2 2 1 6 2 0 0 5 5 4 1 0\n",
        " 0 0 4 1 2 4 1 0 6 0 0 0 0 4 2 1 1 4 1 0 4 2 0 0 0 2 1 0 2 5 1 2 0 4 1 0 5\n",
        " 4 1 0 2 5 0 2 0 6 1 0 0 5 1 0 1 1 0 1 1 0 0 0 0 0 5 0 0 0 5 0 6 1 2 6 1 4\n",
        " 2 1 1 1 1 2 0 0 0 2 0 0 1 0 2 1 1 0 0 0 2 0 1 2 2 2 5 0 0 1 0 2 5 0 2 1 5\n",
        " 0 1 1 0 5 5 0 1 0 0 2 2 2 5 0]\n",
        "Finished epoch 0 / 4: cost 4499280.046112, train: 0.104000, val 0.125000, lr 5.000000e-04\n",
        "starting iteration "
       ]
      },
      {
       "output_type": "stream",
       "stream": "stdout",
       "text": [
        " 10\n",
        "Predicted classifications:"
       ]
      },
      {
       "output_type": "stream",
       "stream": "stdout",
       "text": [
        " [5 0 6 5 4 5 1 2 2 2 9 0 4 1 1 0 2 6 5 5 1 0 0 1 1 1 1 4 2 1 1 0 6 0 2 0 0\n",
        " 1 0 0 5 0 7 0 2 6 3 4 2 5 5 0 2 5 0 1 2 2 0 2 1 0 2 5 1 6 3 0 0 5 5 4 1 0\n",
        " 0 6 4 1 2 4 1 0 6 5 0 6 0 4 2 1 5 4 1 1 4 2 0 0 0 2 1 0 6 5 1 2 5 4 1 4 5\n",
        " 4 1 6 2 5 0 6 0 6 1 0 0 5 1 0 1 2 0 4 1 0 0 0 0 0 5 6 0 0 5 0 6 5 2 6 1 4\n",
        " 2 1 1 1 4 2 0 0 0 2 0 0 5 0 7 1 1 6 0 0 2 4 1 2 2 2 5 7 1 1 0 2 5 0 7 1 5\n",
        " 5 1 1 0 5 5 0 4 0 0 2 2 2 5 4]\n",
        "Finished epoch 1 / 4: cost 3027972.226469, train: 0.092000, val 0.145000, lr 4.995000e-04\n",
        "starting iteration "
       ]
      },
      {
       "output_type": "stream",
       "stream": "stdout",
       "text": [
        " 20\n",
        "starting iteration "
       ]
      },
      {
       "output_type": "stream",
       "stream": "stdout",
       "text": [
        " 30\n",
        "Predicted classifications:"
       ]
      },
      {
       "output_type": "stream",
       "stream": "stdout",
       "text": [
        " [5 1 6 5 4 5 1 2 2 2 9 0 4 1 1 0 2 6 4 5 1 7 7 1 3 6 1 4 2 1 1 0 6 0 2 7 1\n",
        " 3 1 0 5 0 7 6 2 6 3 4 2 5 5 0 6 5 0 1 2 2 0 2 5 0 7 5 1 6 3 0 0 5 5 4 1 0\n",
        " 1 6 4 1 2 4 5 0 6 5 5 6 0 4 2 1 5 4 1 1 4 2 0 0 0 2 1 0 6 5 1 2 5 4 1 4 5\n",
        " 4 1 6 2 5 0 6 0 6 1 0 7 5 1 0 1 2 0 4 1 0 0 7 9 0 5 6 0 0 5 0 6 5 2 6 1 4\n",
        " 2 4 1 1 4 2 0 9 0 2 0 0 5 0 7 1 1 6 0 0 2 4 1 2 2 2 5 7 4 1 0 2 5 0 7 1 5\n",
        " 5 1 1 0 5 3 0 6 0 0 2 2 2 5 4]\n",
        "Finished epoch 2 / 4: cost 3059545.467498, train: 0.106000, val 0.165000, lr 4.990005e-04\n",
        "starting iteration "
       ]
      },
      {
       "output_type": "stream",
       "stream": "stdout",
       "text": [
        " 40\n",
        "starting iteration "
       ]
      },
      {
       "output_type": "stream",
       "stream": "stdout",
       "text": [
        " 50\n",
        "Predicted classifications:"
       ]
      },
      {
       "output_type": "stream",
       "stream": "stdout",
       "text": [
        " [5 1 6 5 4 5 7 2 2 2 9 4 4 1 1 0 2 6 4 5 1 7 7 1 3 6 1 4 2 1 1 0 6 0 2 7 1\n",
        " 3 1 0 9 0 7 6 2 6 3 4 2 5 5 0 6 5 0 1 2 2 5 2 9 0 7 5 1 6 3 0 0 5 5 4 4 5\n",
        " 1 6 4 1 2 4 5 0 6 5 9 6 0 4 2 1 5 4 6 4 4 2 4 0 0 2 1 0 6 5 1 2 5 4 1 4 5\n",
        " 4 6 6 2 5 0 6 4 6 5 0 7 5 1 0 1 2 0 4 1 5 6 7 9 0 5 6 3 0 5 0 6 5 2 6 1 4\n",
        " 2 4 1 1 4 2 0 9 0 2 0 4 5 0 7 1 1 6 0 0 2 4 1 6 6 6 5 7 4 1 0 8 5 5 7 1 5\n",
        " 7 1 1 0 4 3 0 6 0 7 2 2 2 5 4]\n",
        "Finished epoch 3 / 4: cost 3029610.093228, train: 0.110000, val 0.175000, lr 4.985015e-04\n",
        "starting iteration "
       ]
      }
     ]
    },
    {
     "cell_type": "code",
     "collapsed": false,
     "input": [
      "import matplotlib.pyplot as plt\n",
      "\n",
      "plt.subplot(2, 1, 1)\n",
      "plt.plot(train_acc_history)\n",
      "plt.plot(val_acc_history)\n",
      "plt.title('accuracy vs time')\n",
      "plt.legend(['train', 'val'], loc=4)\n",
      "plt.xlabel('epoch')\n",
      "plt.ylabel('classification accuracy')\n",
      "\n",
      "plt.subplot(2, 1, 2)\n",
      "plt.plot(loss_history)\n",
      "plt.title('loss vs time')\n",
      "plt.xlabel('iteration')\n",
      "plt.ylabel('loss')\n",
      "plt.show()"
     ],
     "language": "python",
     "metadata": {},
     "outputs": [
      {
       "ename": "KeyboardInterrupt",
       "evalue": "",
       "output_type": "pyerr",
       "traceback": [
        "\u001b[0;31m---------------------------------------------------------------------------\u001b[0m\n\u001b[0;31mKeyboardInterrupt\u001b[0m                         Traceback (most recent call last)",
        "\u001b[0;32m/Library/Python/2.7/site-packages/matplotlib/backend_bases.pyc\u001b[0m in \u001b[0;36menter_notify_event\u001b[0;34m(self, guiEvent, xy)\u001b[0m\n\u001b[1;32m   1933\u001b[0m         \u001b[0mself\u001b[0m\u001b[0;34m.\u001b[0m\u001b[0m_lastx\u001b[0m\u001b[0;34m,\u001b[0m \u001b[0mself\u001b[0m\u001b[0;34m.\u001b[0m\u001b[0m_lasty\u001b[0m \u001b[0;34m=\u001b[0m \u001b[0mNone\u001b[0m\u001b[0;34m,\u001b[0m \u001b[0mNone\u001b[0m\u001b[0;34m\u001b[0m\u001b[0m\n\u001b[1;32m   1934\u001b[0m \u001b[0;34m\u001b[0m\u001b[0m\n\u001b[0;32m-> 1935\u001b[0;31m     \u001b[0;32mdef\u001b[0m \u001b[0menter_notify_event\u001b[0m\u001b[0;34m(\u001b[0m\u001b[0mself\u001b[0m\u001b[0;34m,\u001b[0m \u001b[0mguiEvent\u001b[0m\u001b[0;34m=\u001b[0m\u001b[0mNone\u001b[0m\u001b[0;34m,\u001b[0m \u001b[0mxy\u001b[0m\u001b[0;34m=\u001b[0m\u001b[0mNone\u001b[0m\u001b[0;34m)\u001b[0m\u001b[0;34m:\u001b[0m\u001b[0;34m\u001b[0m\u001b[0m\n\u001b[0m\u001b[1;32m   1936\u001b[0m         \"\"\"\n\u001b[1;32m   1937\u001b[0m         \u001b[0mBackend\u001b[0m \u001b[0mderived\u001b[0m \u001b[0mclasses\u001b[0m \u001b[0mshould\u001b[0m \u001b[0mcall\u001b[0m \u001b[0mthis\u001b[0m \u001b[0mfunction\u001b[0m \u001b[0mwhen\u001b[0m \u001b[0mentering\u001b[0m\u001b[0;34m\u001b[0m\u001b[0m\n",
        "\u001b[0;31mKeyboardInterrupt\u001b[0m: "
       ]
      }
     ],
     "prompt_number": 11
    },
    {
     "cell_type": "code",
     "collapsed": false,
     "input": [],
     "language": "python",
     "metadata": {},
     "outputs": []
    }
   ],
   "metadata": {}
  }
 ]
}