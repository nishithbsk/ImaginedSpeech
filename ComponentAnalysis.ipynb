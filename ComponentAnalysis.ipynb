{
 "metadata": {
  "name": "",
  "signature": "sha256:27805e97493d8379a5cecfd2ca982f7d7c85a0c9539765f72f28535ca518c5ae"
 },
 "nbformat": 3,
 "nbformat_minor": 0,
 "worksheets": [
  {
   "cells": [
    {
     "cell_type": "code",
     "collapsed": false,
     "input": [
      "from matplotlib.mlab import PCA\n",
      "import numpy \n",
      "\n",
      "#data is a 2d numpy array where columns are the dimensions you want reduced i.e EEG channels and rows are samples i.e ha/ bit etc\n",
      "myData = numpy.array(data) #where data is HA / BIT/ HABIT/ SIG / NAL / SIGNAL \n",
      "results = PCA(myData)  \n",
      "\n",
      "#this will return an array of variance percentages for each component\n",
      "results.fracs\n",
      "\n",
      "#this will return a 2d array of the data projected into PCA space\n",
      "results.Y "
     ],
     "language": "python",
     "metadata": {},
     "outputs": []
    },
    {
     "cell_type": "code",
     "collapsed": false,
     "input": [
      "from sklearn.decomposition import FastICA \n",
      "\n",
      "ica = FastICA(ncomp, whiten=True, max_iter=5000) #Number of components to use. If none is passed, all are used.\n",
      "\n",
      "data_out=np.zeros((ncomp,np.shape(data[0,:,0])[0],np.shape(data[0,0,:])[0]))\n",
      "for i in range(np.shape(data[0,:,0])[0]):\n",
      "    print i\n",
      "    data_out[:,i,:]=np.transpose(ica.fit_transform(np.transpose(data[:,i,:]))) #data out are the reconstructed "
     ],
     "language": "python",
     "metadata": {},
     "outputs": []
    }
   ],
   "metadata": {}
  }
 ]
}